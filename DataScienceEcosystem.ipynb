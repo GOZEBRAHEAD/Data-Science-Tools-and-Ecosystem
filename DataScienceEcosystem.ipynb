{
  "metadata": {
    "kernelspec": {
      "name": "python",
      "display_name": "Python (Pyodide)",
      "language": "python"
    },
    "language_info": {
      "codemirror_mode": {
        "name": "python",
        "version": 3
      },
      "file_extension": ".py",
      "mimetype": "text/x-python",
      "name": "python",
      "nbconvert_exporter": "python",
      "pygments_lexer": "ipython3",
      "version": "3.8"
    }
  },
  "nbformat_minor": 5,
  "nbformat": 4,
  "cells": [
    {
      "id": "ac87716b-1278-47f9-bec9-42d8f7c4d591",
      "cell_type": "markdown",
      "source": "<h1>Data Science Tools and Ecosystem</h1>",
      "metadata": {}
    },
    {
      "id": "943b9d0b-1b55-42ff-bb23-4b2b2d3c7bd3",
      "cell_type": "markdown",
      "source": "<p>In this notebook, Data Science Tools and Ecosystem are summarized. I am following the Skills Network instructions from IBM.</p>",
      "metadata": {
        "jp-MarkdownHeadingCollapsed": true
      }
    },
    {
      "id": "cf6cfbb2-c929-4670-b88d-10237646bf2e",
      "cell_type": "markdown",
      "source": "<p><b>Objectives:<b></p>\n<ul>\n    <li>Create a table with the Data Science tools used all over the world.</li>\n    <li>List the libraries most Data Scientists use.</li>\n    <li>List popular languages for Data Science.</li>\n    <li>Write code showing how arithmetic works in a jupyter notebook.</li>\n</ul>",
      "metadata": {}
    },
    {
      "id": "4d1d8ee1-956c-4d96-bf61-73eee58d4fc6",
      "cell_type": "markdown",
      "source": "<p>Some of the popular languages that Data Scientists use are:</p>\n<ol>\n    <li>R language</li>\n    <li>Python</li>\n    <li>SQL</li>\n    <li>Scala</li>\n</ol>",
      "metadata": {
        "jp-MarkdownHeadingCollapsed": true
      }
    },
    {
      "id": "a0e90959-782c-4bbb-b879-834b7b905865",
      "cell_type": "markdown",
      "source": "<p>Some of the commonly used libraries used by Data Scientists include:</p>\n<ol>\n    <li>Matplotlib</li>\n    <li>NumPy</li>\n    <li>Pandas</li>\n    <li>Seaborn</li>\n</ol>",
      "metadata": {}
    },
    {
      "id": "e0ad3b30-8df4-46d0-9301-4dbe720ff80c",
      "cell_type": "markdown",
      "source": "<table>\n    <tr>\n        <th>Data Science Tools</th>\n    </tr>\n    <tr>\n        <td>Jupyter Notebooks</td>\n    </tr>\n    <tr>\n        <td>Visual Studio Code</td>\n    </tr>\n    <tr>\n        <td>RStudio</td>\n    </tr>\n</table>",
      "metadata": {}
    },
    {
      "id": "d10563e3-9d27-4c08-a3af-926d9389e006",
      "cell_type": "markdown",
      "source": "<h3>Below are a few examples of evaluating arithmetic expressions in Python</h3>",
      "metadata": {}
    },
    {
      "id": "45acf49a-56cb-4d18-bd81-1a0daf15de7f",
      "cell_type": "code",
      "source": "# Explanation: this a simple arithmetic expression to mutiply then add integers\n(3*4)+5",
      "metadata": {
        "trusted": true
      },
      "outputs": [
        {
          "execution_count": 1,
          "output_type": "execute_result",
          "data": {
            "text/plain": "17"
          },
          "metadata": {}
        }
      ],
      "execution_count": 1
    },
    {
      "id": "bd610460-d5f0-468e-a0cb-3a799c1d0fbe",
      "cell_type": "code",
      "source": "# Calculus: this will convert 200 minutes to hours by diving by 60\n200 / 60",
      "metadata": {
        "trusted": true
      },
      "outputs": [
        {
          "execution_count": 2,
          "output_type": "execute_result",
          "data": {
            "text/plain": "3.3333333333333335"
          },
          "metadata": {}
        }
      ],
      "execution_count": 2
    },
    {
      "id": "90ccbe6c-c818-4412-b092-88bd7c8bcb3d",
      "cell_type": "markdown",
      "source": "<h2>Author</h2>\n<p>Luciano Nieves - 2024-03-28 - Argentina</p>",
      "metadata": {}
    }
  ]
}